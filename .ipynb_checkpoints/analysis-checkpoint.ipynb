{
 "cells": [
  {
   "cell_type": "code",
   "execution_count": 38,
   "id": "46f84dff-fe46-45a3-afdf-21af1a26ab9c",
   "metadata": {},
   "outputs": [
    {
     "name": "stdout",
     "output_type": "stream",
     "text": [
      "\u001b[1mTime spent on each foot (sec)\n",
      "                                            \u001b[31mLeft     \u001b[30mBoth     \u001b[32mRight\n",
      "\u001b[0mALS              :   \u001b[0m  \u001b[37m\u001b[41m           1.40           \u001b[40m    0.60    \u001b[42m           1.40           \n",
      "\u001b[0mHuntington's     :   \u001b[0m\u001b[37m\u001b[41m                          3.35                          \u001b[40m  0.35  \u001b[42m         1.14         \n",
      "\u001b[0mParkinson's      :   \u001b[0m          \u001b[37m\u001b[41m         1.13         \u001b[40m   0.39   \u001b[42m         1.13         \n",
      "\u001b[0mControl          :   \u001b[0m            \u001b[37m\u001b[41m        1.09        \u001b[40m  0.31  \u001b[42m        1.09        \n"
     ]
    }
   ],
   "source": [
    "import pandas as pd\n",
    "from colorama import Fore, Back, Style\n",
    "\n",
    "als_com = pd.read_csv(\"ALS_combined_data.csv\")#.groupby(\"Subject\")\n",
    "hunt_com = pd.read_csv(\"Hunt_combined_data.csv\")#.groupby(\"Subject\")\n",
    "park_com = pd.read_csv(\"Park_combined_data.csv\")#.groupby(\"Subject\")\n",
    "cont_com = pd.read_csv(\"Control_combined_data.csv\")#.groupby(\"Subject\")\n",
    "names = [\"ALS\", \"Huntington's\", \"Parkinson's\", \"Control\"]\n",
    "datasets = [als_com, hunt_com, park_com, cont_com]\n",
    "\n",
    "left = Fore.RED + \"Left     \"\n",
    "both = Fore.BLACK + \"Both     \"\n",
    "right = Fore.GREEN + \"Right\"\n",
    "print(Style.BRIGHT + \"Time spent on each foot (sec)\")\n",
    "print((\" \" * 44) + left + both + right)\n",
    "\n",
    "for name, set in zip(names, datasets):\n",
    "    print(Style.RESET_ALL + f\"{name:16s}\", \":\", end=\"   \")\n",
    "    left = set[\"Right Stride Interval (sec)\"].mean().mean()\n",
    "    both = set[\"Double Support Interval (sec)\"].mean().mean()\n",
    "    right = set[\"Left Stride Interval (sec)\"].mean().mean()\n",
    "    space = \" \" * int(36 - (int(left * 20) + (0.5 * int(both * 20))))\n",
    "\n",
    "    print(Style.RESET_ALL + str(space) + Fore.WHITE, end=\"\")\n",
    "    print(Back.RED + (\" \" * int(left * 8)) + (\"%4.2f\"%left) + (\" \" * int(left * 8)), end=\"\")\n",
    "    print(Back.BLACK + (\" \" * int(both * 8)) + (\"%4.2f\"%both) + (\" \" * int(both * 8)), end=\"\")\n",
    "    print(Back.GREEN + (\" \" * int(right * 8)) + (\"%4.2f\"%right) + (\" \" * int(right * 8)))"
   ]
  },
  {
   "cell_type": "code",
   "execution_count": 39,
   "id": "365f4473-0d0f-41c7-bf21-3c9246635dcc",
   "metadata": {},
   "outputs": [
    {
     "name": "stdout",
     "output_type": "stream",
     "text": [
      "\u001b[1mAverage time spent on each foot by disease (seconds)\n",
      "                     \u001b[31mLeft                \u001b[30mBoth    \u001b[32mRight\n",
      "\u001b[0mControl          :   \u001b[0m\u001b[37m\u001b[41m        1.09        \u001b[40m  0.31  \u001b[42m        1.09        \n",
      "\u001b[0mParkinson's      :   \u001b[0m\u001b[37m\u001b[41m         1.13         \u001b[40m   0.39   \u001b[42m         1.13         \n",
      "\u001b[0mHuntington's     :   \u001b[0m\u001b[37m\u001b[41m                          3.35                          \u001b[40m  0.35  \u001b[42m         1.14         \n",
      "\u001b[0mALS              :   \u001b[0m\u001b[37m\u001b[41m           1.40           \u001b[40m    0.60    \u001b[42m           1.40           \n"
     ]
    }
   ],
   "source": [
    "import pandas as pd\n",
    "from colorama import Fore, Back, Style\n",
    "\n",
    "als_com = pd.read_csv(\"ALS_combined_data.csv\")#.groupby(\"Subject\")\n",
    "hunt_com = pd.read_csv(\"Hunt_combined_data.csv\")#.groupby(\"Subject\")\n",
    "park_com = pd.read_csv(\"Park_combined_data.csv\")#.groupby(\"Subject\")\n",
    "cont_com = pd.read_csv(\"Control_combined_data.csv\")#.groupby(\"Subject\")\n",
    "names = [\"ALS\", \"Huntington's\", \"Parkinson's\", \"Control\"]\n",
    "datasets = [als_com, hunt_com, park_com, cont_com]\n",
    "\n",
    "left = Fore.RED + \"Left     \"\n",
    "both = Fore.BLACK + \"Both    \"\n",
    "right = Fore.GREEN + \"Right\"\n",
    "print(Style.BRIGHT + \"Average time spent on each foot by disease (seconds)\")\n",
    "print((\" \" * 21) + left + (\" \" * 11) + both + right)\n",
    "\n",
    "for name, set in zip(names[::-1], datasets[::-1]):\n",
    "    print(Style.RESET_ALL + f\"{name:16s}\", \":\", end=\"   \")\n",
    "    left = set[\"Right Stride Interval (sec)\"].mean().mean()\n",
    "    both = set[\"Double Support Interval (sec)\"].mean().mean()\n",
    "    right = set[\"Left Stride Interval (sec)\"].mean().mean()\n",
    "    space = \" \" * int(45 - (int(left * 20) + (0.5 * int(both * 20))))\n",
    "\n",
    "    print(Style.RESET_ALL + Fore.WHITE, end=\"\")\n",
    "    print(Back.RED + (\" \" * int(left * 8)) + (\"%4.2f\"%left) + (\" \" * int(left * 8)), end=\"\")\n",
    "    print(Back.BLACK + (\" \" * int(both * 8)) + (\"%4.2f\"%both) + (\" \" * int(both * 8)), end=\"\")\n",
    "    print(Back.GREEN + (\" \" * int(right * 8)) + (\"%4.2f\"%right) + (\" \" * int(right * 8)))"
   ]
  }
 ],
 "metadata": {
  "kernelspec": {
   "display_name": "Python 3 (ipykernel)",
   "language": "python",
   "name": "python3"
  },
  "language_info": {
   "codemirror_mode": {
    "name": "ipython",
    "version": 3
   },
   "file_extension": ".py",
   "mimetype": "text/x-python",
   "name": "python",
   "nbconvert_exporter": "python",
   "pygments_lexer": "ipython3",
   "version": "3.12.1"
  }
 },
 "nbformat": 4,
 "nbformat_minor": 5
}
